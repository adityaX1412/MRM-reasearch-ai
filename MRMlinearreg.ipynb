{
 "cells": [
  {
   "cell_type": "code",
   "execution_count": 3,
   "id": "8f839171-ac8c-4656-aef1-c47153d8c08f",
   "metadata": {},
   "outputs": [],
   "source": [
    "import numpy as np \n",
    "import pandas as pd \n",
    "import matplotlib.pyplot as plt\n",
    "from sklearn.preprocessing import LabelEncoder\n",
    "\n",
    "dataframe = pd.read_csv(\"/Users/aditya/Downloads/CarPrice_Assignment.csv\")\n",
    "\n",
    "\n",
    "le = LabelEncoder()\n",
    "non_integer_columns = dataframe.select_dtypes(include=['object']).columns\n",
    "for col in non_integer_columns:\n",
    "    dataframe[col] = le.fit_transform(dataframe[col])\n",
    "\n",
    "\n",
    "\n"
   ]
  },
  {
   "cell_type": "code",
   "execution_count": 4,
   "id": "1e1b1cd3-9c87-451c-a39a-16b2a819e21c",
   "metadata": {},
   "outputs": [],
   "source": [
    "def normalize(dataframe):\n",
    "    means = dataframe.mean()\n",
    "    standard_deviations = dataframe.std()\n",
    "    scaled_dataframe = (dataframe - means) / standard_deviations\n",
    "    return scaled_dataframe, means['price'], standard_deviations['price']\n"
   ]
  },
  {
   "cell_type": "code",
   "execution_count": 5,
   "id": "90285e7e-6ac7-4c0a-a5b3-4805f2ef246d",
   "metadata": {},
   "outputs": [],
   "source": [
    "\n",
    "\n",
    "def cost(X, y, theta):\n",
    "    m = len(X)\n",
    "    c = 1 / (2 * m)\n",
    "    temp_0 = np.dot(X, theta) - y\n",
    "    temp_1 = temp_0.transpose()\n",
    "    temp_2 = np.dot(temp_1, temp_0)\n",
    "    return c * temp_2\n"
   ]
  },
  {
   "cell_type": "code",
   "execution_count": 6,
   "id": "cdc62934-8253-4a3b-9096-44c5c54bb074",
   "metadata": {},
   "outputs": [],
   "source": [
    "\n",
    "\n",
    "def gradient_descent(X, y, theta, alpha, iterations):\n",
    "    m = len(X)\n",
    "    cost_history = np.zeros(iterations)\n",
    "    for i in range(iterations):\n",
    "        temp_0 = np.dot(X, theta) - y\n",
    "        temp_1 = np.dot(X.transpose(), temp_0)\n",
    "        theta = theta - (alpha / m) * temp_1\n",
    "        cost_history[i] = cost(X, y, theta)\n",
    "    return theta, cost_history\n"
   ]
  },
  {
   "cell_type": "code",
   "execution_count": 7,
   "id": "8d260382-b83e-4191-b6e1-fee20b9e1ef9",
   "metadata": {},
   "outputs": [],
   "source": [
    "\n",
    "X = dataframe.drop(columns=['car_ID'])\n",
    "X, mean_price, std_price = normalize(X)\n",
    "X.insert(0, 'X_0', 1) \n",
    "\n",
    "y = dataframe['price'].to_numpy()\n",
    "\n",
    "\n",
    "train_ratio = 0.8\n",
    "train_size = int(train_ratio * len(dataframe))\n",
    "\n",
    "X_train = X[:train_size]\n",
    "X_test = X[train_size:]\n",
    "y_train = y[:train_size]\n",
    "y_test = y[train_size:]\n",
    "\n",
    "theta = np.zeros(X_train.shape[1])\n",
    "\n",
    "alpha = 0.02\n",
    "iterations = 1500\n",
    "\n",
    "\n",
    "theta, cost_history = gradient_descent(X_train, y_train, theta, alpha, iterations)\n",
    "\n",
    "\n",
    "y_pred_test = np.dot(X_test, theta)\n",
    "\n"
   ]
  },
  {
   "cell_type": "code",
   "execution_count": 8,
   "id": "719ea77b-301b-4531-8872-6986c3cc4e80",
   "metadata": {},
   "outputs": [
    {
     "name": "stdout",
     "output_type": "stream",
     "text": [
      "R^2 on test set: 0.9943717129637316\n"
     ]
    }
   ],
   "source": [
    "\n",
    "def r_squared(y_true, y_pred):\n",
    "    ss_total = np.sum((y_true - np.mean(y_true))**2)\n",
    "    ss_residual = np.sum((y_true - y_pred)**2)\n",
    "    r2 = 1 - (ss_residual / ss_total)\n",
    "    return r2\n",
    "\n",
    "r2_test = r_squared(y_test, y_pred_test)\n",
    "print(\"R^2 on test set:\", r2_test)\n",
    "\n"
   ]
  },
  {
   "cell_type": "code",
   "execution_count": 9,
   "id": "93d0576a-add3-4aa9-a0ef-9486cf1cae69",
   "metadata": {},
   "outputs": [
    {
     "data": {
      "image/png": "[encoded data removed]",
      "text/plain": [
       "<Figure size 640x480 with 1 Axes>"
      ]
     },
     "metadata": {},
     "output_type": "display_data"
    }
   ],
   "source": [
    "plt.plot(range(1, iterations + 1), cost_history, color='blue')\n",
    "plt.xlabel('Iterations')\n",
    "plt.ylabel('Cost')\n",
    "plt.title('Cost vs Iterations')\n",
    "plt.show()"
   ]
  },
  {
   "cell_type": "code",
   "execution_count": null,
   "id": "a933a2be-40df-4ca3-aab0-acc7764d76fe",
   "metadata": {},
   "outputs": [],
   "source": []
  }
 ],
 "metadata": {
  "kernelspec": {
   "display_name": "Python 3 (ipykernel)",
   "language": "python",
   "name": "python3"
  },
  "language_info": {
   "codemirror_mode": {
    "name": "ipython",
    "version": 3
   },
   "file_extension": ".py",
   "mimetype": "text/x-python",
   "name": "python",
   "nbconvert_exporter": "python",
   "pygments_lexer": "ipython3",
   "version": "3.12.0"
  }
 },
 "nbformat": 4,
 "nbformat_minor": 5
}
